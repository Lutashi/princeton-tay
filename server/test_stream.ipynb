{
 "cells": [
  {
   "cell_type": "code",
   "execution_count": 11,
   "metadata": {},
   "outputs": [
    {
     "name": "stdout",
     "output_type": "stream",
     "text": [
      " \"Once upon a time in the late 1700s, Princeton was a small college known as the College of New Jersey, nestled in the quiet town of Princeton, New Jersey. The year was 1776, a pivotal moment in American history, as the nation was on the brink of revolution. The college, founded just thirty years earlier, had already begun to attract some of the brightest minds of the time, including students who would go on to shape the future of the United States.\\n\\nAmong these students was a young man named Jonathan, a passionate and idealistic scholar who was deeply influenced by the political climate surrounding him. He spent his days studying philosophy and political theory, often engaging in spirited debates with his classmates about the rights of man and the responsibilities of government. Jonathan was particularly inspired by the writings of John Locke and Thomas Jefferson, and he dreamed of a world where liberty and justice prevailed.\\n\\nOne fateful day, as Jonathan was walking through the campus, he overheard a group of students discussing the recent events in Philadelphia, where the Continental Congress was drafting a declaration to break away from British rule. The excitement in the air was palpable, and Jonathan felt a surge of determination. He knew he had to do something to contribute to the cause of independence.\\n\\nThat evening, Jonathan gathered a group of like-minded students in the library of Nassau Hall, the heart of the college. They discussed the ideas of freedom and democracy, and Jonathan proposed that they write a letter to the Continental Congress, urging them to consider the voices of the youth in their deliberations. The students were enthusiastic, and together they crafted a passionate appeal, expressing their desire for a nation built on the principles of equality and justice.\\n\\nAs they prepared to send their letter, news arrived that the British had taken control of New York City. The atmosphere on campus shifted; fear and uncertainty loomed over the students. Many of them were torn between their studies and the call to serve their country. Jonathan, however, felt a sense of urgency. He decided to enlist in the local militia, believing that action was necessary to protect the ideals they had discussed.\\n\\nOn the day he was to leave, his friends gathered to bid him farewell. They promised to continue their studies and to keep the spirit of their cause alive at Princeton. Jonathan felt a mix of pride and apprehension as he stepped away from the campus that had shaped him. He knew that the fight for independence would be long and arduous, but he was ready to face whatever challenges lay ahead.\\n\\nAs the war raged on, Jonathan fought bravely alongside his fellow soldiers. He witnessed the struggles and sacrifices of countless individuals who shared his vision for a free America. Meanwhile, back at Princeton, his friends continued to honor his commitment by organizing discussions and events that kept the spirit of revolution alive on campus.\\n\\nYears later, after the war had ended and the United States emerged as a new nation, Jonathan returned to Princeton. He was greeted as a hero, not just for his bravery in battle, but for the ideals he had championed. The college had grown and evolved, but the values of liberty and justice remained at its core.\\n\\nJonathan's story became a part of Princeton's rich history, a testament to the power of youthful passion and the impact of education in shaping the future. The College of New Jersey had transformed into Princeton University, but the spirit of activism and the pursuit of knowledge continued to thrive, inspiring generations of students to come.\\n\\nAnd so, the legacy of Jonathan and his fellow students lived on, reminding all who walked the hallowed halls of Princeton that they were part of something greater"
     ]
    },
    {
     "ename": "UnicodeDecodeError",
     "evalue": "'utf-8' codec can't decode byte 0xe2 in position 0: unexpected end of data",
     "output_type": "error",
     "traceback": [
      "\u001b[0;31m---------------------------------------------------------------------------\u001b[0m",
      "\u001b[0;31mUnicodeDecodeError\u001b[0m                        Traceback (most recent call last)",
      "Cell \u001b[0;32mIn[11], line 13\u001b[0m\n\u001b[1;32m     10\u001b[0m         \u001b[38;5;28;01mfor\u001b[39;00m line \u001b[38;5;129;01min\u001b[39;00m r\u001b[38;5;241m.\u001b[39miter_content():\n\u001b[1;32m     11\u001b[0m             \u001b[38;5;28mprint\u001b[39m(line\u001b[38;5;241m.\u001b[39mdecode(\u001b[38;5;124m\"\u001b[39m\u001b[38;5;124mutf-8\u001b[39m\u001b[38;5;124m\"\u001b[39m), end\u001b[38;5;241m=\u001b[39m\u001b[38;5;124m\"\u001b[39m\u001b[38;5;124m\"\u001b[39m)\n\u001b[0;32m---> 13\u001b[0m \u001b[43mget_stream\u001b[49m\u001b[43m(\u001b[49m\u001b[38;5;124;43m\"\u001b[39;49m\u001b[38;5;124;43mwrite a fictional story that is based on some part of princeton\u001b[39;49m\u001b[38;5;124;43m'\u001b[39;49m\u001b[38;5;124;43ms history\u001b[39;49m\u001b[38;5;124;43m\"\u001b[39;49m\u001b[43m)\u001b[49m\n",
      "Cell \u001b[0;32mIn[11], line 11\u001b[0m, in \u001b[0;36mget_stream\u001b[0;34m(query)\u001b[0m\n\u001b[1;32m      5\u001b[0m \u001b[38;5;28;01mwith\u001b[39;00m s\u001b[38;5;241m.\u001b[39mget(\n\u001b[1;32m      6\u001b[0m     \u001b[38;5;124m\"\u001b[39m\u001b[38;5;124mhttp://127.0.0.1:8000/api/chat\u001b[39m\u001b[38;5;124m\"\u001b[39m,\n\u001b[1;32m      7\u001b[0m     stream\u001b[38;5;241m=\u001b[39m\u001b[38;5;28;01mTrue\u001b[39;00m,\n\u001b[1;32m      8\u001b[0m     json\u001b[38;5;241m=\u001b[39m{\u001b[38;5;124m\"\u001b[39m\u001b[38;5;124mtext\u001b[39m\u001b[38;5;124m\"\u001b[39m: query}\n\u001b[1;32m      9\u001b[0m ) \u001b[38;5;28;01mas\u001b[39;00m r:\n\u001b[1;32m     10\u001b[0m     \u001b[38;5;28;01mfor\u001b[39;00m line \u001b[38;5;129;01min\u001b[39;00m r\u001b[38;5;241m.\u001b[39miter_content():\n\u001b[0;32m---> 11\u001b[0m         \u001b[38;5;28mprint\u001b[39m(\u001b[43mline\u001b[49m\u001b[38;5;241;43m.\u001b[39;49m\u001b[43mdecode\u001b[49m\u001b[43m(\u001b[49m\u001b[38;5;124;43m\"\u001b[39;49m\u001b[38;5;124;43mutf-8\u001b[39;49m\u001b[38;5;124;43m\"\u001b[39;49m\u001b[43m)\u001b[49m, end\u001b[38;5;241m=\u001b[39m\u001b[38;5;124m\"\u001b[39m\u001b[38;5;124m\"\u001b[39m)\n",
      "\u001b[0;31mUnicodeDecodeError\u001b[0m: 'utf-8' codec can't decode byte 0xe2 in position 0: unexpected end of data"
     ]
    }
   ],
   "source": [
    "import requests\n",
    "\n",
    "def get_stream(query: str):\n",
    "    s = requests.Session()\n",
    "    with s.get(\n",
    "        \"http://127.0.0.1:8000/api/chat\",\n",
    "        stream=True,\n",
    "        json={\"text\": query}\n",
    "    ) as r:\n",
    "        for line in r.iter_content():\n",
    "            print(line.decode(\"utf-8\"), end=\"\")\n",
    "\n",
    "get_stream(\"write a fictional story that is based on some part of princeton's history\")"
   ]
  },
  {
   "cell_type": "code",
   "execution_count": null,
   "metadata": {},
   "outputs": [],
   "source": []
  }
 ],
 "metadata": {
  "kernelspec": {
   "display_name": ".venv",
   "language": "python",
   "name": "python3"
  },
  "language_info": {
   "codemirror_mode": {
    "name": "ipython",
    "version": 3
   },
   "file_extension": ".py",
   "mimetype": "text/x-python",
   "name": "python",
   "nbconvert_exporter": "python",
   "pygments_lexer": "ipython3",
   "version": "3.10.13"
  }
 },
 "nbformat": 4,
 "nbformat_minor": 2
}
