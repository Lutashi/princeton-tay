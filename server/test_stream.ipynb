{
 "cells": [
  {
   "cell_type": "code",
   "execution_count": 13,
   "metadata": {},
   "outputs": [
    {
     "name": "stdout",
     "output_type": "stream",
     "text": [
      " \"I don't have specific contact information for Professor Arvind Narayanan. However, you can typically find contact details for faculty members on their respective department's website or the Princeton University faculty directory. You may also consider reaching out to the Center for Information Technology Policy (CITP) at Princeton, where he is the director, for further assistance. For more information, you can visit the CITP website: [Center for Information Technology Policy](https://citp.princeton.edu/).\"\n",
      "}\n",
      "```"
     ]
    }
   ],
   "source": [
    "import requests\n",
    "\n",
    "def get_stream(query: str):\n",
    "    s = requests.Session()\n",
    "    with s.get(\n",
    "        \"http://127.0.0.1:8000/api/chat\",\n",
    "        stream=True,\n",
    "        json={\"text\": query}\n",
    "    ) as r:\n",
    "        for line in r.iter_content():\n",
    "            print(line.decode(\"utf-8\"), end=\"\")\n",
    "\n",
    "get_stream(\"how can I contact him?\")"
   ]
  },
  {
   "cell_type": "code",
   "execution_count": null,
   "metadata": {},
   "outputs": [],
   "source": []
  }
 ],
 "metadata": {
  "kernelspec": {
   "display_name": ".venv",
   "language": "python",
   "name": "python3"
  },
  "language_info": {
   "codemirror_mode": {
    "name": "ipython",
    "version": 3
   },
   "file_extension": ".py",
   "mimetype": "text/x-python",
   "name": "python",
   "nbconvert_exporter": "python",
   "pygments_lexer": "ipython3",
   "version": "3.10.13"
  }
 },
 "nbformat": 4,
 "nbformat_minor": 2
}
